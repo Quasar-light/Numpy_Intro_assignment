{
  "cells": [
    {
      "attachments": {},
      "cell_type": "markdown",
      "metadata": {
        "id": "ZvNsvUNNlZbi"
      },
      "source": [
        "# Coding Temple's Data Analytics Program  \n",
        "---\n",
        "# Advanced Python - Intro to `numpy`\n",
        "---\n",
        "\n"
      ]
    },
    {
      "attachments": {},
      "cell_type": "markdown",
      "metadata": {
        "id": "xMq6Of2Gt24o"
      },
      "source": [
        "## Part 1: Working with `numpy`\n"
      ]
    },
    {
      "attachments": {},
      "cell_type": "markdown",
      "metadata": {
        "id": "76eJSGb5gwtY"
      },
      "source": [
        "### 1.1 Importing `numpy`\n",
        "\n",
        "We've already used the `numpy` package by importing it and assigning it the standard alias of `np`. Do this again in the following cell - the more you practice typing these lines of code, the easier it will be to remember."
      ]
    },
    {
      "cell_type": "code",
      "execution_count": 1,
      "metadata": {
        "id": "h3r0IvHVuGJb"
      },
      "outputs": [],
      "source": [
        "# Import numpy and assign it the standard alias\n",
        "# YOUR CODE HERE\n",
        "\n",
        "import numpy as np"
      ]
    },
    {
      "cell_type": "code",
      "execution_count": 2,
      "metadata": {},
      "outputs": [],
      "source": [
        "import numpy as np"
      ]
    },
    {
      "attachments": {},
      "cell_type": "markdown",
      "metadata": {},
      "source": [
        "### 1.1 Solution - Run this cell to check your answer in 1.1. Please do not edit the values in this cell!"
      ]
    },
    {
      "cell_type": "code",
      "execution_count": 3,
      "metadata": {},
      "outputs": [],
      "source": [
        "# DO NOT EDIT THIS CELL\n",
        "assert np.__name__ == 'numpy', 'Make sure that you have properly imported numpy and aliased it as np!'"
      ]
    },
    {
      "attachments": {},
      "cell_type": "markdown",
      "metadata": {
        "id": "DvYie7qokbDH"
      },
      "source": [
        "### 1.2 Generate random numbers\n",
        "\n",
        "Create a `(5,3)` `numpy` array of random integer values between 0 and 100.\n",
        "\n",
        "Use the the `random()` method in numpy to generate these integers. Name your new variable `myarray`. You should also print the array to check it's dimensions and values."
      ]
    },
    {
      "cell_type": "code",
      "execution_count": 6,
      "metadata": {
        "colab": {
          "base_uri": "https://localhost:8080/"
        },
        "id": "UNJo_50VktRs",
        "outputId": "201f35e8-cd05-451c-aee4-de9b6e2ad93c"
      },
      "outputs": [
        {
          "ename": "AttributeError",
          "evalue": "module 'numpy' has no attribute 'random'",
          "output_type": "error",
          "traceback": [
            "\u001b[0;31m---------------------------------------------------------------------------\u001b[0m",
            "\u001b[0;31mAttributeError\u001b[0m                            Traceback (most recent call last)",
            "\u001b[1;32m/Users/kali/Downloads/Coding_Temple/intro_to_numpy_assignment.ipynb Cell 9\u001b[0m line \u001b[0;36m2\n\u001b[1;32m      <a href='vscode-notebook-cell:/Users/kali/Downloads/Coding_Temple/intro_to_numpy_assignment.ipynb#X11sZmlsZQ%3D%3D?line=0'>1</a>\u001b[0m \u001b[39m# Generate your random numbers\u001b[39;00m\n\u001b[0;32m----> <a href='vscode-notebook-cell:/Users/kali/Downloads/Coding_Temple/intro_to_numpy_assignment.ipynb#X11sZmlsZQ%3D%3D?line=1'>2</a>\u001b[0m np\u001b[39m.\u001b[39;49mrandom\u001b[39m.\u001b[39mseed(\u001b[39m1\u001b[39m) \u001b[39m#Seed generated for reproducibility\u001b[39;00m\n\u001b[1;32m      <a href='vscode-notebook-cell:/Users/kali/Downloads/Coding_Temple/intro_to_numpy_assignment.ipynb#X11sZmlsZQ%3D%3D?line=3'>4</a>\u001b[0m \u001b[39m#YOUR CODE HERE\u001b[39;00m\n\u001b[1;32m      <a href='vscode-notebook-cell:/Users/kali/Downloads/Coding_Temple/intro_to_numpy_assignment.ipynb#X11sZmlsZQ%3D%3D?line=4'>5</a>\u001b[0m \u001b[39m#from numpy import random\u001b[39;00m\n\u001b[1;32m      <a href='vscode-notebook-cell:/Users/kali/Downloads/Coding_Temple/intro_to_numpy_assignment.ipynb#X11sZmlsZQ%3D%3D?line=6'>7</a>\u001b[0m myarray \u001b[39m=\u001b[39m np\u001b[39m.\u001b[39mrandom\u001b[39m.\u001b[39mrandint(low\u001b[39m=\u001b[39m\u001b[39m0\u001b[39m, high\u001b[39m=\u001b[39m\u001b[39m100\u001b[39m, size\u001b[39m=\u001b[39m(\u001b[39m5\u001b[39m,\u001b[39m3\u001b[39m))\n",
            "\u001b[0;31mAttributeError\u001b[0m: module 'numpy' has no attribute 'random'"
          ]
        }
      ],
      "source": [
        "# Generate your random numbers\n",
        "np.random.seed(1) #Seed generated for reproducibility\n",
        "\n",
        "#YOUR CODE HERE\n",
        "#from numpy import random\n",
        "\n",
        "myarray = np.random.randint(low=0, high=100, size=(5,3))\n",
        "\n",
        "# Print out the array\n",
        "\n",
        "print(myarray)\n"
      ]
    },
    {
      "attachments": {},
      "cell_type": "markdown",
      "metadata": {},
      "source": [
        "### 1.2 Solution - Run the following cell to check your answer."
      ]
    },
    {
      "cell_type": "code",
      "execution_count": null,
      "metadata": {},
      "outputs": [],
      "source": [
        "#DO NOT EDIT THIS CELL\n",
        "\n",
        "#Verify the array was created with the correct name and has the proper shape\n",
        "assert myarray.shape == (5,3), 'Make sure you create an array with the proper shape!'"
      ]
    },
    {
      "attachments": {},
      "cell_type": "markdown",
      "metadata": {},
      "source": [
        "### 1.3 Calculate BMI \n",
        "\n",
        "Using the two lists provided, please calculate the BMI(body mass index) of each individual using NDArrays. Save the variable containing your results as `bmi`\n",
        "\n",
        "The formula for BMI in pounds and inches can be defined as: $BMI= \\frac{703 * weight} {(height)^2}$"
      ]
    },
    {
      "cell_type": "code",
      "execution_count": null,
      "metadata": {},
      "outputs": [
        {
          "name": "stdout",
          "output_type": "stream",
          "text": [
            "[ 361517750 1822176000 1081917000 1406000000]\n"
          ]
        }
      ],
      "source": [
        "height = [55, 120, 90, 100]\n",
        "weight = [170, 180, 190, 200]\n",
        "\n",
        "#make list into array\n",
        "l1 = np.array(height)\n",
        "l2 = np.array(weight)\n",
        "\n",
        "bmi = 703 * l2 * l1**2\n",
        "print(bmi)"
      ]
    },
    {
      "attachments": {},
      "cell_type": "markdown",
      "metadata": {},
      "source": [
        "### 1.3 Solution: Run the following cell to check your answer."
      ]
    },
    {
      "cell_type": "code",
      "execution_count": null,
      "metadata": {},
      "outputs": [
        {
          "ename": "AssertionError",
          "evalue": "Make sure you have saved your results to the proper variable name!",
          "output_type": "error",
          "traceback": [
            "\u001b[0;31m---------------------------------------------------------------------------\u001b[0m",
            "\u001b[0;31mAssertionError\u001b[0m                            Traceback (most recent call last)",
            "\u001b[1;32m/Users/kali/Downloads/Coding_Temple/intro_to_numpy_assignment.ipynb Cell 15\u001b[0m line \u001b[0;36m1\n\u001b[0;32m----> <a href='vscode-notebook-cell:/Users/kali/Downloads/Coding_Temple/intro_to_numpy_assignment.ipynb#X20sZmlsZQ%3D%3D?line=0'>1</a>\u001b[0m \u001b[39massert\u001b[39;00m \u001b[39m'\u001b[39m\u001b[39mbmi\u001b[39m\u001b[39m'\u001b[39m \u001b[39min\u001b[39;00m \u001b[39mdir\u001b[39m() , \u001b[39m'\u001b[39m\u001b[39mMake sure you have saved your results to the proper variable name!\u001b[39m\u001b[39m'\u001b[39m\n\u001b[1;32m      <a href='vscode-notebook-cell:/Users/kali/Downloads/Coding_Temple/intro_to_numpy_assignment.ipynb#X20sZmlsZQ%3D%3D?line=1'>2</a>\u001b[0m \u001b[39massert\u001b[39;00m \u001b[39mtype\u001b[39m(bmi) \u001b[39m==\u001b[39m np\u001b[39m.\u001b[39mndarray, \u001b[39m'\u001b[39m\u001b[39mMake sure that you made the calculation using an NDArray for both height and weight!\u001b[39m\u001b[39m'\u001b[39m\n",
            "\u001b[0;31mAssertionError\u001b[0m: Make sure you have saved your results to the proper variable name!"
          ]
        }
      ],
      "source": [
        "assert 'bmi' in dir() , 'Make sure you have saved your results to the proper variable name!'\n",
        "assert type(bmi) == np.ndarray, 'Make sure that you made the calculation using an NDArray for both height and weight!'"
      ]
    },
    {
      "attachments": {},
      "cell_type": "markdown",
      "metadata": {},
      "source": [
        "### 1.4 Create a function \n",
        "\n",
        "Create a function named `my_func` that will take in two parameters and will create a random matrix based off of those parameters. Extra: Have additional parameters taken in that allow the user to choose the shape and data type of the matrix."
      ]
    },
    {
      "cell_type": "code",
      "execution_count": null,
      "metadata": {},
      "outputs": [
        {
          "name": "stdout",
          "output_type": "stream",
          "text": [
            "[[24  9]\n",
            " [22 24]\n",
            " [15 32]\n",
            " [14 32]\n",
            " [18 22]]\n"
          ]
        }
      ],
      "source": [
        "def my_func(matrix):\n",
        "    matrix = np.random.randint()\n",
        "    return matrix\n",
        "print(np.random.randint(low=4,high=33, size=(5,2)))"
      ]
    },
    {
      "attachments": {},
      "cell_type": "markdown",
      "metadata": {
        "id": "CYy4Zp5pk7tS"
      },
      "source": [
        "### 1.5 Array practice\n",
        "\n",
        "Time for some more practice. Run each of these tasks in the separate code cell listed below:\n",
        "\n",
        "1.  Return the first row\n",
        "2.  Return the last column\n",
        "3.  Return the third column values from the 4th and 5th rows\n",
        "4.  Multiply every value in the array by 2\n",
        "5.  Divide every value by 3\n",
        "6.  Increase the values in the first row by 12\n",
        "7. Calculate the mean of the first column\n",
        "8. Calculate the median of the array _after_ removing the 2 smallest values in the array\n",
        "9. Calculate the standard deviation of the first 3 rows\n",
        "10. Return values greater than 25 in the second column\n",
        "11. Return values less than 40 in the array"
      ]
    },
    {
      "cell_type": "code",
      "execution_count": null,
      "metadata": {
        "colab": {
          "base_uri": "https://localhost:8080/"
        },
        "id": "lIxLoTfGl910",
        "outputId": "126ce770-41b6-42ab-eab5-26071a027979"
      },
      "outputs": [
        {
          "name": "stdout",
          "output_type": "stream",
          "text": [
            "[4 5 6 7]\n"
          ]
        }
      ],
      "source": [
        "# 1. Return the first row:\n",
        "\n",
        "matrix = np.array([[4,5,6,7], [1,2,6,7]])\n",
        "print(matrix[0])"
      ]
    },
    {
      "cell_type": "code",
      "execution_count": null,
      "metadata": {
        "colab": {
          "base_uri": "https://localhost:8080/"
        },
        "id": "lMafok6zoGB-",
        "outputId": "df874775-ac9e-42de-c305-fd7e13afc98b"
      },
      "outputs": [
        {
          "name": "stdout",
          "output_type": "stream",
          "text": [
            "oritinal  [[4 5 6 7]\n",
            " [1 2 6 7]]\n",
            "last row  [1 2 6 7]\n"
          ]
        }
      ],
      "source": [
        "# 2. Return the last column\n",
        "\"\"\"add column\"\"\"\n",
        "shape = (2,4)\n",
        "\n",
        "Last_r = np.matrix(shape, int)\n",
        "print(\"oritinal \", matrix)\n",
        "print(\"last row \", matrix[1])"
      ]
    },
    {
      "cell_type": "code",
      "execution_count": null,
      "metadata": {
        "colab": {
          "base_uri": "https://localhost:8080/"
        },
        "id": "TEpRarEbobjz",
        "outputId": "0adb6634-385c-47a4-f01e-1b8add2518d1"
      },
      "outputs": [
        {
          "name": "stdout",
          "output_type": "stream",
          "text": [
            "This is l4. I know that i should have added another row but it's late(cry emoji): 13\n",
            "this is l5: 16\n"
          ]
        }
      ],
      "source": [
        "# 3. Return the third column values from the 4th and 5th rows\n",
        "l1 = [3,4,5]\n",
        "l2 =[6,7,8]\n",
        "l3 = [9,10,11]\n",
        "l4 = [12,13,14]\n",
        "l5 = [15,16,17]\n",
        "\n",
        "Row_matrix = [l1,l2,l3,l4,l5]\n",
        "Row_matrix = np.array(Row_matrix)\n",
        "\n",
        "print(f\"This is l4. I know that i should have added another row but it's late(cry emoji): {Row_matrix[3][1]}\")\n",
        "print(f\"this is l5: {Row_matrix[4][1]}\")\n",
        "\n",
        "    \n",
        "\n",
        "\n"
      ]
    },
    {
      "cell_type": "code",
      "execution_count": null,
      "metadata": {
        "colab": {
          "base_uri": "https://localhost:8080/"
        },
        "id": "6nR51YtPpdKo",
        "outputId": "244aec23-e37a-4bca-d8fb-43b3744f3c4d"
      },
      "outputs": [
        {
          "data": {
            "text/plain": [
              "array([[ 6,  8, 10],\n",
              "       [12, 14, 16],\n",
              "       [18, 20, 22],\n",
              "       [24, 26, 28],\n",
              "       [30, 32, 34]])"
            ]
          },
          "execution_count": 12,
          "metadata": {},
          "output_type": "execute_result"
        }
      ],
      "source": [
        "# 4. Multiply every value in the array by 2\n",
        "\n",
        "Row_matrix *2\n"
      ]
    },
    {
      "cell_type": "code",
      "execution_count": null,
      "metadata": {
        "colab": {
          "base_uri": "https://localhost:8080/"
        },
        "id": "6Nr8BqCVpfr1",
        "outputId": "a3616032-2853-41a8-c941-b5a8be43f70f"
      },
      "outputs": [
        {
          "data": {
            "text/plain": [
              "array([[1, 1, 1],\n",
              "       [2, 2, 2],\n",
              "       [3, 3, 3],\n",
              "       [4, 4, 4],\n",
              "       [5, 5, 5]])"
            ]
          },
          "execution_count": 13,
          "metadata": {},
          "output_type": "execute_result"
        }
      ],
      "source": [
        "# 5. Divide every value by 3\n",
        "\n",
        "Row_matrix //3"
      ]
    },
    {
      "cell_type": "code",
      "execution_count": null,
      "metadata": {
        "colab": {
          "base_uri": "https://localhost:8080/"
        },
        "id": "5ejUOn2gptcV",
        "outputId": "921e3aab-2cf7-4a46-8581-5fdb1fb69da1"
      },
      "outputs": [
        {
          "name": "stdout",
          "output_type": "stream",
          "text": [
            "[15 16 17]\n"
          ]
        }
      ],
      "source": [
        "# 6. Increase the values in the first row by 12\n",
        "print(Row_matrix[0]+12)"
      ]
    },
    {
      "cell_type": "code",
      "execution_count": null,
      "metadata": {
        "colab": {
          "base_uri": "https://localhost:8080/"
        },
        "id": "o-q-n6rzpunI",
        "outputId": "0783e4fc-2bc5-4480-e62d-90fdd33c73e2"
      },
      "outputs": [
        {
          "name": "stdout",
          "output_type": "stream",
          "text": [
            "[ 4.  7. 10. 13. 16.]\n"
          ]
        }
      ],
      "source": [
        "# 7. Calculate the mean of the first column\n",
        "print(Row_matrix.mean(axis=1))"
      ]
    },
    {
      "cell_type": "code",
      "execution_count": null,
      "metadata": {
        "colab": {
          "base_uri": "https://localhost:8080/"
        },
        "id": "izVdnwnLpuuY",
        "outputId": "11965467-d665-416e-a4ec-883745aa668f"
      },
      "outputs": [
        {
          "name": "stdout",
          "output_type": "stream",
          "text": [
            "[[ 3  4  5]\n",
            " [ 6  7  8]\n",
            " [ 9 10 11]\n",
            " [12 13 14]\n",
            " [15 16 17]]\n",
            "The lowest values are deleted:  [ 5  6  7  8  9 10 11 12 13 14 15 16 17]\n",
            "Mean of delete_low:  11.0\n"
          ]
        }
      ],
      "source": [
        "# 8. Calculate the median of the array after removing the 2 smallest values in the array\n",
        "print(Row_matrix)\n",
        "\n",
        "delete_low = np.delete(Row_matrix,[0,1])\n",
        "print(f\"The lowest values are deleted: \", delete_low)\n",
        "print(\"Mean of delete_low: \", delete_low.mean())"
      ]
    },
    {
      "cell_type": "code",
      "execution_count": 2,
      "metadata": {
        "colab": {
          "base_uri": "https://localhost:8080/"
        },
        "id": "1WCDKp2xrzK9",
        "outputId": "74aca405-d2d6-4ec6-e983-a438a8aec81f"
      },
      "outputs": [
        {
          "ename": "NameError",
          "evalue": "name 'np' is not defined",
          "output_type": "error",
          "traceback": [
            "\u001b[0;31m---------------------------------------------------------------------------\u001b[0m",
            "\u001b[0;31mNameError\u001b[0m                                 Traceback (most recent call last)",
            "\u001b[1;32m/Users/kali/Downloads/Coding_Temple/intro_to_numpy_assignment.ipynb Cell 27\u001b[0m line \u001b[0;36m3\n\u001b[1;32m      <a href='vscode-notebook-cell:/Users/kali/Downloads/Coding_Temple/intro_to_numpy_assignment.ipynb#X35sZmlsZQ%3D%3D?line=0'>1</a>\u001b[0m \u001b[39m# 9. Calculate the standard deviation of the first 3 rows\u001b[39;00m\n\u001b[1;32m      <a href='vscode-notebook-cell:/Users/kali/Downloads/Coding_Temple/intro_to_numpy_assignment.ipynb#X35sZmlsZQ%3D%3D?line=1'>2</a>\u001b[0m \u001b[39m# Generate a new array to work on\u001b[39;00m\n\u001b[0;32m----> <a href='vscode-notebook-cell:/Users/kali/Downloads/Coding_Temple/intro_to_numpy_assignment.ipynb#X35sZmlsZQ%3D%3D?line=2'>3</a>\u001b[0m np\u001b[39m.\u001b[39mrandom\u001b[39m.\u001b[39mseed(\u001b[39m2\u001b[39m) \u001b[39m# New seed for new array\u001b[39;00m\n\u001b[1;32m      <a href='vscode-notebook-cell:/Users/kali/Downloads/Coding_Temple/intro_to_numpy_assignment.ipynb#X35sZmlsZQ%3D%3D?line=4'>5</a>\u001b[0m array_std \u001b[39m=\u001b[39m np\u001b[39m.\u001b[39mrandom\u001b[39m.\u001b[39mrandint(low\u001b[39m=\u001b[39m\u001b[39m2\u001b[39m,high\u001b[39m=\u001b[39m\u001b[39m93\u001b[39m, size\u001b[39m=\u001b[39m(\u001b[39m3\u001b[39m,\u001b[39m3\u001b[39m))\n\u001b[1;32m      <a href='vscode-notebook-cell:/Users/kali/Downloads/Coding_Temple/intro_to_numpy_assignment.ipynb#X35sZmlsZQ%3D%3D?line=5'>6</a>\u001b[0m \u001b[39mprint\u001b[39m(array_std)\n",
            "\u001b[0;31mNameError\u001b[0m: name 'np' is not defined"
          ]
        }
      ],
      "source": [
        "# 9. Calculate the standard deviation of the first 3 rows\n",
        "# Generate a new array to work on\n",
        "np.random.seed(2) # New seed for new array\n",
        "\n",
        "array_std = np.random.randint(low=2,high=93, size=(3,3))\n",
        "print(array_std)\n",
        "std_d = np.std(array_std, axis=0)\n",
        "print(std_d)\n"
      ]
    },
    {
      "cell_type": "code",
      "execution_count": 1,
      "metadata": {
        "colab": {
          "base_uri": "https://localhost:8080/"
        },
        "id": "zb7aXd3xry3r",
        "outputId": "e6f81b8a-1cb1-4c9f-a734-a8471a8f7961"
      },
      "outputs": [
        {
          "ename": "NameError",
          "evalue": "name 'array_std' is not defined",
          "output_type": "error",
          "traceback": [
            "\u001b[0;31m---------------------------------------------------------------------------\u001b[0m",
            "\u001b[0;31mNameError\u001b[0m                                 Traceback (most recent call last)",
            "\u001b[1;32m/Users/kali/Downloads/Coding_Temple/intro_to_numpy_assignment.ipynb Cell 28\u001b[0m line \u001b[0;36m3\n\u001b[1;32m      <a href='vscode-notebook-cell:/Users/kali/Downloads/Coding_Temple/intro_to_numpy_assignment.ipynb#X36sZmlsZQ%3D%3D?line=0'>1</a>\u001b[0m \u001b[39m# 10. Return values in the second column greater than 25\u001b[39;00m\n\u001b[0;32m----> <a href='vscode-notebook-cell:/Users/kali/Downloads/Coding_Temple/intro_to_numpy_assignment.ipynb#X36sZmlsZQ%3D%3D?line=2'>3</a>\u001b[0m condition \u001b[39m=\u001b[39m array_std[:,\u001b[39m1\u001b[39m] \u001b[39m>\u001b[39m \u001b[39m25\u001b[39m\n",
            "\u001b[0;31mNameError\u001b[0m: name 'array_std' is not defined"
          ]
        }
      ],
      "source": [
        "# 10. Return values in the second column greater than 25\n",
        "\n",
        "condition = array_std[:,1] > 25\n"
      ]
    },
    {
      "cell_type": "code",
      "execution_count": null,
      "metadata": {
        "colab": {
          "base_uri": "https://localhost:8080/"
        },
        "id": "IZ8HYk95ocDE",
        "outputId": "8d047861-9abd-4138-ce5c-366821ca933c"
      },
      "outputs": [
        {
          "name": "stdout",
          "output_type": "stream",
          "text": [
            "(array([0, 1, 2, 2]), array([1, 0, 1, 2]))\n"
          ]
        }
      ],
      "source": [
        "# 11. Return values < 40 in the array\n",
        "\n",
        "M = np.where(array_std<40)\n",
        "\n",
        "array_std[M] = 39\n",
        "\n",
        "print(M)"
      ]
    },
    {
      "cell_type": "code",
      "execution_count": null,
      "metadata": {},
      "outputs": [],
      "source": []
    },
    {
      "attachments": {},
      "cell_type": "markdown",
      "metadata": {
        "id": "6Xwf9ZDLX_xp"
      },
      "source": [
        "### Solution 1.5: Run the following cell to view the solution for each of the above tasks.\n",
        "\n",
        "A new array will be generated to demonstrate the solution - the values will not be the same as your array. But the code for each task will still apply."
      ]
    },
    {
      "cell_type": "code",
      "execution_count": null,
      "metadata": {
        "colab": {
          "base_uri": "https://localhost:8080/"
        },
        "id": "15P0nIbqY8vi",
        "outputId": "f0aa2414-b800-48de-c300-d3763e4eb9fc"
      },
      "outputs": [],
      "source": [
        "# DO NOT EDIT THIS CELL\n",
        "# SOLUTION 1.3\n",
        "\n",
        "# SOLUTION: Make sure you have completed all of the above tasks\n",
        "# Generate your random numbers (NEW ARRAY)\n",
        "myarray = np.random.randint(100, size=(5, 3))\n",
        "print('The generated array: \\n', myarray)\n",
        "print('\\n')\n",
        "\n",
        "# 1. Return the first row:\n",
        "print('1. The first row: ', myarray[0])\n",
        "print('\\n')\n",
        "\n",
        "# 2. Return the last column\n",
        "print('2. The last column: ', myarray[:,-1])\n",
        "print('\\n')\n",
        "\n",
        "# 3. Return the third column values from the 4th and 5th rows\n",
        "print('3. The 3rd column, 4th & 5th rows: ', myarray[3:5,2])\n",
        "print('\\n')\n",
        "\n",
        "# 4. Multiply every value in the array by 2\n",
        "# (operates on the original array)\n",
        "print('4. Multiply by 2: \\n', myarray * 2)\n",
        "print('\\n')\n",
        "\n",
        "# 5. Divide every value by 3\n",
        "# (operates on the original array)\n",
        "print('5. Divide by 3: \\n', myarray / 3)\n",
        "print('\\n')\n",
        "\n",
        "# 6. Increase the values in the first row by 12\n",
        "# (operates on the original array)\n",
        "print('6. Add 12 to the first row: \\n', myarray[0,:] + 12)\n",
        "print('\\n')\n",
        "\n",
        "# 7. Calculate the mean of the first column\n",
        "print('7. The mean of the 1st column: ', myarray[:,0].mean())\n",
        "print('\\n')\n",
        "\n",
        "# 8. Calculate the median of the array after removing the 2 smallest values in the array\n",
        "# flatten and sort (axis=None does the flattening)\n",
        "myarray = np.sort(myarray, axis=None)\n",
        "# remove two smallest values\n",
        "myarray = myarray[2:]\n",
        "# calculate the median\n",
        "print('8. The median after removing the 2 smallest values: ', np.median(myarray))\n",
        "print('\\n')\n",
        "\n",
        "# 9. Calculate the standard deviation of the first 3 rows\n",
        "# Generate new array first:\n",
        "myarray = np.random.randint(100, size=(5, 3))\n",
        "# Then calculate the std:\n",
        "print('9. The standard deviation is: ', np.std(myarray[0:3,:]))\n",
        "print('\\n')\n",
        "\n",
        "# 10. Return values in the second column greater than 25\n",
        "# create a Boolean mask where values in the 2nd column > 25 are True\n",
        "condition = myarray[:,1] > 25\n",
        "# Apply the mask\n",
        "print('10. All values in 2nd column > 25: \\n', myarray[condition])\n",
        "print('\\n')\n",
        "\n",
        "# 11. Return values < 40 in the array\n",
        "# create another Boolean mask for values < 40\n",
        "condition = myarray < 40\n",
        "# apply the mask\n",
        "print('11. All values < 40: \\n', myarray[condition])"
      ]
    }
  ],
  "metadata": {
    "colab": {
      "provenance": []
    },
    "kernelspec": {
      "display_name": "Python 3",
      "language": "python",
      "name": "python3"
    },
    "language_info": {
      "codemirror_mode": {
        "name": "ipython",
        "version": 3
      },
      "file_extension": ".py",
      "mimetype": "text/x-python",
      "name": "python",
      "nbconvert_exporter": "python",
      "pygments_lexer": "ipython3",
      "version": "3.11.5"
    },
    "vscode": {
      "interpreter": {
        "hash": "26de051ba29f2982a8de78e945f0abaf191376122a1563185a90213a26c5da77"
      }
    }
  },
  "nbformat": 4,
  "nbformat_minor": 0
}
